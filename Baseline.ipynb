{
 "cells": [
  {
   "cell_type": "code",
   "execution_count": 23,
   "metadata": {},
   "outputs": [],
   "source": [
    "import pandas as pd\n",
    "import numpy as np\n",
    "import matplotlib.pyplot as plt\n",
    "from sklearn.preprocessing import LabelEncoder\n",
    "from sklearn.model_selection import train_test_split\n",
    "from sklearn.ensemble import RandomForestRegressor\n",
    "from sklearn.metrics import mean_absolute_error\n",
    "from collections import Counter"
   ]
  },
  {
   "cell_type": "code",
   "execution_count": 24,
   "metadata": {},
   "outputs": [],
   "source": [
    "sd =  pd.read_csv('./Data/store.csv', index_col = 0)\n",
    "td =  pd.read_csv('./Data/train.csv', low_memory=False)"
   ]
  },
  {
   "cell_type": "code",
   "execution_count": 25,
   "metadata": {},
   "outputs": [],
   "source": [
    "#dropping Customers col\n",
    "del td['Customers']"
   ]
  },
  {
   "cell_type": "code",
   "execution_count": 26,
   "metadata": {},
   "outputs": [],
   "source": [
    "#merge(left_df, right_df, on=’Customer_id’, how=’inner’)\n",
    "data = pd.merge(sd,td, on = 'Store')"
   ]
  },
  {
   "cell_type": "code",
   "execution_count": 27,
   "metadata": {},
   "outputs": [
    {
     "name": "stdout",
     "output_type": "stream",
     "text": [
      "Column CompetitionDistance has 0.2644% missing values \n",
      "\n",
      "Column CompetitionOpenSinceMonth has 31.7605% missing values \n",
      "\n",
      "Column CompetitionOpenSinceYear has 31.7605% missing values \n",
      "\n",
      "Column Promo2SinceWeek has 49.0959% missing values \n",
      "\n",
      "Column Promo2SinceYear has 49.0959% missing values \n",
      "\n",
      "Column PromoInterval has 49.0959% missing values \n",
      "\n",
      "Column DayOfWeek has 2.9811% missing values \n",
      "\n",
      "Column Sales has 2.9823% missing values \n",
      "\n",
      "Column Open has 3.014% missing values \n",
      "\n",
      "Column Promo has 3.0207% missing values \n",
      "\n",
      "Column StateHoliday has 3.0074% missing values \n",
      "\n",
      "Column SchoolHoliday has 3.0376% missing values \n",
      "\n"
     ]
    }
   ],
   "source": [
    "# checking to see how many null values we have in each of the other columns\n",
    "columns_with_nulls = []\n",
    "for column in data.columns:\n",
    "    if data.loc[:, column].isnull().any():\n",
    "        columns_with_nulls.append(column)\n",
    "\n",
    "for column in columns_with_nulls:\n",
    "    percent_missing = round(((data.loc[data.loc[:, column].isnull()].shape[0] / data.shape[0]) * 100), 4)\n",
    "    print(\"Column {} has {}% missing values \\n\".format(column, percent_missing))"
   ]
  },
  {
   "cell_type": "code",
   "execution_count": 28,
   "metadata": {},
   "outputs": [],
   "source": [
    "# for columns with only a very small amoung of null values, we will simply drop the nulls that are there.\n",
    "columns_with_few_nulls = ['CompetitionDistance',\n",
    "                          'DayOfWeek',\n",
    "                          'Sales',\n",
    "                          'Open',\n",
    "                          'Promo',\n",
    "                          'StateHoliday',\n",
    "                          'SchoolHoliday',\n",
    "                          'CompetitionOpenSinceMonth',\n",
    "                          'CompetitionOpenSinceYear',\n",
    "                          'Promo2SinceWeek',\n",
    "                          'Promo2SinceYear',\n",
    "                          'PromoInterval'\n",
    "                         ]\n",
    "for column in columns_with_few_nulls:\n",
    "    data = data.loc[~data.loc[:, column].isnull()]"
   ]
  },
  {
   "cell_type": "code",
   "execution_count": 29,
   "metadata": {},
   "outputs": [],
   "source": [
    "data.loc[(data.StateHoliday == 0), 'StateHoliday'] = 'd'"
   ]
  },
  {
   "cell_type": "code",
   "execution_count": 30,
   "metadata": {},
   "outputs": [],
   "source": [
    "le = LabelEncoder()  \n",
    "data['StoreType'] = le.fit_transform(data['StoreType'])\n",
    "data['Assortment'] = le.fit_transform(data['Assortment'])\n",
    "data['StateHoliday'] = le.fit_transform(data['StateHoliday'])"
   ]
  },
  {
   "cell_type": "code",
   "execution_count": 31,
   "metadata": {},
   "outputs": [
    {
     "data": {
      "text/plain": [
       "Store\n",
       "2       0.002776\n",
       "3       0.002681\n",
       "11      0.002800\n",
       "14      0.002765\n",
       "15      0.002765\n",
       "          ...   \n",
       "1105    0.002711\n",
       "1106    0.002812\n",
       "1107    0.002591\n",
       "1109    0.002621\n",
       "1111    0.002747\n",
       "Length: 365, dtype: float64"
      ]
     },
     "execution_count": 31,
     "metadata": {},
     "output_type": "execute_result"
    }
   ],
   "source": [
    "enc_nom_1 = (data.groupby('Store').size()) / len(data)\n",
    "enc_nom_1"
   ]
  },
  {
   "cell_type": "code",
   "execution_count": 32,
   "metadata": {},
   "outputs": [],
   "source": [
    "data['Store_f_enc'] = data['Store'].apply(lambda x : enc_nom_1[x])"
   ]
  },
  {
   "cell_type": "code",
   "execution_count": 33,
   "metadata": {},
   "outputs": [
    {
     "data": {
      "text/html": [
       "<div>\n",
       "<style scoped>\n",
       "    .dataframe tbody tr th:only-of-type {\n",
       "        vertical-align: middle;\n",
       "    }\n",
       "\n",
       "    .dataframe tbody tr th {\n",
       "        vertical-align: top;\n",
       "    }\n",
       "\n",
       "    .dataframe thead th {\n",
       "        text-align: right;\n",
       "    }\n",
       "</style>\n",
       "<table border=\"1\" class=\"dataframe\">\n",
       "  <thead>\n",
       "    <tr style=\"text-align: right;\">\n",
       "      <th></th>\n",
       "      <th>Store</th>\n",
       "      <th>StoreType</th>\n",
       "      <th>Assortment</th>\n",
       "      <th>CompetitionDistance</th>\n",
       "      <th>CompetitionOpenSinceMonth</th>\n",
       "      <th>CompetitionOpenSinceYear</th>\n",
       "      <th>Promo2</th>\n",
       "      <th>Promo2SinceWeek</th>\n",
       "      <th>Promo2SinceYear</th>\n",
       "      <th>PromoInterval</th>\n",
       "      <th>Date</th>\n",
       "      <th>DayOfWeek</th>\n",
       "      <th>Sales</th>\n",
       "      <th>Open</th>\n",
       "      <th>Promo</th>\n",
       "      <th>StateHoliday</th>\n",
       "      <th>SchoolHoliday</th>\n",
       "      <th>Store_f_enc</th>\n",
       "    </tr>\n",
       "  </thead>\n",
       "  <tbody>\n",
       "    <tr>\n",
       "      <th>562</th>\n",
       "      <td>2</td>\n",
       "      <td>0</td>\n",
       "      <td>0</td>\n",
       "      <td>570.0</td>\n",
       "      <td>11.0</td>\n",
       "      <td>2007.0</td>\n",
       "      <td>1</td>\n",
       "      <td>13.0</td>\n",
       "      <td>2010.0</td>\n",
       "      <td>Jan,Apr,Jul,Oct</td>\n",
       "      <td>2013-01-01</td>\n",
       "      <td>2.0</td>\n",
       "      <td>0.0</td>\n",
       "      <td>0.0</td>\n",
       "      <td>0.0</td>\n",
       "      <td>1</td>\n",
       "      <td>1.0</td>\n",
       "      <td>0.002776</td>\n",
       "    </tr>\n",
       "    <tr>\n",
       "      <th>564</th>\n",
       "      <td>2</td>\n",
       "      <td>0</td>\n",
       "      <td>0</td>\n",
       "      <td>570.0</td>\n",
       "      <td>11.0</td>\n",
       "      <td>2007.0</td>\n",
       "      <td>1</td>\n",
       "      <td>13.0</td>\n",
       "      <td>2010.0</td>\n",
       "      <td>Jan,Apr,Jul,Oct</td>\n",
       "      <td>2013-01-03</td>\n",
       "      <td>4.0</td>\n",
       "      <td>4159.0</td>\n",
       "      <td>1.0</td>\n",
       "      <td>0.0</td>\n",
       "      <td>0</td>\n",
       "      <td>1.0</td>\n",
       "      <td>0.002776</td>\n",
       "    </tr>\n",
       "    <tr>\n",
       "      <th>565</th>\n",
       "      <td>2</td>\n",
       "      <td>0</td>\n",
       "      <td>0</td>\n",
       "      <td>570.0</td>\n",
       "      <td>11.0</td>\n",
       "      <td>2007.0</td>\n",
       "      <td>1</td>\n",
       "      <td>13.0</td>\n",
       "      <td>2010.0</td>\n",
       "      <td>Jan,Apr,Jul,Oct</td>\n",
       "      <td>2013-01-04</td>\n",
       "      <td>5.0</td>\n",
       "      <td>4484.0</td>\n",
       "      <td>1.0</td>\n",
       "      <td>0.0</td>\n",
       "      <td>0</td>\n",
       "      <td>1.0</td>\n",
       "      <td>0.002776</td>\n",
       "    </tr>\n",
       "    <tr>\n",
       "      <th>566</th>\n",
       "      <td>2</td>\n",
       "      <td>0</td>\n",
       "      <td>0</td>\n",
       "      <td>570.0</td>\n",
       "      <td>11.0</td>\n",
       "      <td>2007.0</td>\n",
       "      <td>1</td>\n",
       "      <td>13.0</td>\n",
       "      <td>2010.0</td>\n",
       "      <td>Jan,Apr,Jul,Oct</td>\n",
       "      <td>2013-01-05</td>\n",
       "      <td>6.0</td>\n",
       "      <td>2342.0</td>\n",
       "      <td>1.0</td>\n",
       "      <td>0.0</td>\n",
       "      <td>0</td>\n",
       "      <td>0.0</td>\n",
       "      <td>0.002776</td>\n",
       "    </tr>\n",
       "    <tr>\n",
       "      <th>567</th>\n",
       "      <td>2</td>\n",
       "      <td>0</td>\n",
       "      <td>0</td>\n",
       "      <td>570.0</td>\n",
       "      <td>11.0</td>\n",
       "      <td>2007.0</td>\n",
       "      <td>1</td>\n",
       "      <td>13.0</td>\n",
       "      <td>2010.0</td>\n",
       "      <td>Jan,Apr,Jul,Oct</td>\n",
       "      <td>2013-01-06</td>\n",
       "      <td>7.0</td>\n",
       "      <td>0.0</td>\n",
       "      <td>0.0</td>\n",
       "      <td>0.0</td>\n",
       "      <td>0</td>\n",
       "      <td>0.0</td>\n",
       "      <td>0.002776</td>\n",
       "    </tr>\n",
       "  </tbody>\n",
       "</table>\n",
       "</div>"
      ],
      "text/plain": [
       "     Store  StoreType  Assortment  CompetitionDistance  \\\n",
       "562      2          0           0                570.0   \n",
       "564      2          0           0                570.0   \n",
       "565      2          0           0                570.0   \n",
       "566      2          0           0                570.0   \n",
       "567      2          0           0                570.0   \n",
       "\n",
       "     CompetitionOpenSinceMonth  CompetitionOpenSinceYear  Promo2  \\\n",
       "562                       11.0                    2007.0       1   \n",
       "564                       11.0                    2007.0       1   \n",
       "565                       11.0                    2007.0       1   \n",
       "566                       11.0                    2007.0       1   \n",
       "567                       11.0                    2007.0       1   \n",
       "\n",
       "     Promo2SinceWeek  Promo2SinceYear    PromoInterval        Date  DayOfWeek  \\\n",
       "562             13.0           2010.0  Jan,Apr,Jul,Oct  2013-01-01        2.0   \n",
       "564             13.0           2010.0  Jan,Apr,Jul,Oct  2013-01-03        4.0   \n",
       "565             13.0           2010.0  Jan,Apr,Jul,Oct  2013-01-04        5.0   \n",
       "566             13.0           2010.0  Jan,Apr,Jul,Oct  2013-01-05        6.0   \n",
       "567             13.0           2010.0  Jan,Apr,Jul,Oct  2013-01-06        7.0   \n",
       "\n",
       "      Sales  Open  Promo  StateHoliday  SchoolHoliday  Store_f_enc  \n",
       "562     0.0   0.0    0.0             1            1.0     0.002776  \n",
       "564  4159.0   1.0    0.0             0            1.0     0.002776  \n",
       "565  4484.0   1.0    0.0             0            1.0     0.002776  \n",
       "566  2342.0   1.0    0.0             0            0.0     0.002776  \n",
       "567     0.0   0.0    0.0             0            0.0     0.002776  "
      ]
     },
     "execution_count": 33,
     "metadata": {},
     "output_type": "execute_result"
    }
   ],
   "source": [
    "data.head()"
   ]
  },
  {
   "cell_type": "code",
   "execution_count": 34,
   "metadata": {},
   "outputs": [],
   "source": [
    "del data['Store']"
   ]
  },
  {
   "cell_type": "code",
   "execution_count": null,
   "metadata": {},
   "outputs": [],
   "source": [
    "data"
   ]
  }
 ],
 "metadata": {
  "kernelspec": {
   "display_name": "Python 3",
   "language": "python",
   "name": "python3"
  },
  "language_info": {
   "codemirror_mode": {
    "name": "ipython",
    "version": 3
   },
   "file_extension": ".py",
   "mimetype": "text/x-python",
   "name": "python",
   "nbconvert_exporter": "python",
   "pygments_lexer": "ipython3",
   "version": "3.8.5"
  }
 },
 "nbformat": 4,
 "nbformat_minor": 4
}
